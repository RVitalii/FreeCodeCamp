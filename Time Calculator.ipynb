{
 "cells": [
  {
   "cell_type": "markdown",
   "metadata": {},
   "source": [
    "# [Time Calculator](https://www.freecodecamp.org/learn/scientific-computing-with-python/scientific-computing-with-python-projects/time-calculator)\n",
    "\n",
    "Write a program that takes in two required parameters and one optional parameter:\n",
    "* a start time in the 12-hour clock format (ending in AM or PM) \n",
    "* a duration time that indicates the number of hours and minutes\n",
    "* (optional) a starting day of the week, case insensitive\n",
    "\n",
    "The program should add the duration time to the start time and return the result.\n",
    "\n",
    "If the result will be the next day, it should show `(next day)` after the time. If the result will be more than one day later, it should show `(n days later)` after the time, where \"n\" is the number of days later.\n",
    "\n",
    "If the program is given the optional starting day of the week parameter, then the output should display the day of the week of the result. The day of the week in the output should appear after the time and before the number of days later.\n",
    "\n",
    "Below are some examples of different cases the program should handle. Pay close attention to the spacing and punctuation of the results.\n",
    "```py\n",
    "add_time(\"3:00 PM\", \"3:10\")\n",
    "# Returns: 6:10 PM\n",
    "\n",
    "add_time(\"11:30 AM\", \"2:32\", \"Monday\")\n",
    "# Returns: 2:02 PM, Monday\n",
    "\n",
    "add_time(\"11:43 AM\", \"00:20\")\n",
    "# Returns: 12:03 PM\n",
    "\n",
    "add_time(\"10:10 PM\", \"3:30\")\n",
    "# Returns: 1:40 AM (next day)\n",
    "\n",
    "add_time(\"11:43 PM\", \"24:20\", \"tueSday\")\n",
    "# Returns: 12:03 AM, Thursday (2 days later)\n",
    "\n",
    "add_time(\"6:30 PM\", \"205:12\")\n",
    "# Returns: 7:42 AM (9 days later)\n",
    "```\n",
    "\n",
    "Do not import any Python libraries. Assume that the start times are valid times. The minutes in the duration time will be a whole number less than 60, but the hour can be any whole number."
   ]
  },
  {
   "cell_type": "code",
   "execution_count": 2,
   "metadata": {},
   "outputs": [],
   "source": [
    "#Defining a Class\n",
    "class Time:\n",
    "    weekdays = [\"monday\", \"tuesday\", \"wednesday\", \"thursday\", \"friday\", \"saturday\", \"sunday\"] \n",
    "    \n",
    "    #ampm and weekday arguments are optional;\n",
    "    def __init__(self, time:str, ampm = \"\", weekday = \"\"):\n",
    "        self.time = time\n",
    "        self.ampm = ampm\n",
    "        self.weekday = weekday.lower()\n",
    "    \n",
    "    #defining a method that converts AM/PM into minutes;\n",
    "    def ampm_as_minutes(self):\n",
    "        if (self.ampm == \"PM\"):\n",
    "            return 12 * 60\n",
    "        else: \n",
    "            return 0\n",
    "    \n",
    "    #converts provided time into a total sum of minutes;  \n",
    "    def to_minutes(self):\n",
    "        hr,min = map(int, self.time.split(\":\"))\n",
    "        return  hr * 60 + min + self.ampm_as_minutes()\n",
    "\n",
    "    #the main method that adds two time periods;\n",
    "    def after(self, duration):\n",
    "        start = self.to_minutes()\n",
    "        duration = duration.to_minutes()\n",
    "\n",
    "        #calcualting numerically days, hours and minutes;\n",
    "        total = start + duration\n",
    "        days = total // (24 * 60)\n",
    "        reminder = total % (24 * 60)\n",
    "        hr = (reminder // 60) % 12\n",
    "        min = reminder % 60\n",
    "\n",
    "        #handling the problem with the 0:00 hour;\n",
    "        output = \"\"\n",
    "        if hr == 0:\n",
    "            hr = 12\n",
    "\n",
    "        #creating the first part of the output;\n",
    "        if (reminder // (12*60)) == 0:\n",
    "            if min < 10:\n",
    "                output = f\"{hr}:0{min} AM\"\n",
    "            else:\n",
    "                output = f\"{hr}:{min} AM\"\n",
    "        else:\n",
    "            if min < 10:\n",
    "                output = f\"{hr}:0{min} PM\"\n",
    "            else:\n",
    "                output = f\"{hr}:{min} PM\"\n",
    "\n",
    "        #adding the day of the week;\n",
    "        if self.weekday != \"\":\n",
    "            nweekday_later = (self.weekdays.index(self.weekday) + 1 + days) % 7\n",
    "            weekday_later = self.weekdays[nweekday_later - 1]\n",
    "            weekday_later = weekday_later[0].upper() + weekday_later[1:]\n",
    "            output += \", \" + weekday_later \n",
    "\n",
    "        #adding the information about days passed; \n",
    "        if days == 0:\n",
    "            return output\n",
    "        elif days == 1:\n",
    "            return output + f\" (next day)\"\n",
    "        else:\n",
    "            return output + f\" ({days} days later)\""
   ]
  },
  {
   "cell_type": "code",
   "execution_count": 3,
   "metadata": {},
   "outputs": [
    {
     "data": {
      "text/plain": [
       "'11:00 PM, Tuesday'"
      ]
     },
     "execution_count": 3,
     "metadata": {},
     "output_type": "execute_result"
    }
   ],
   "source": [
    "# An Example\n",
    "s = Time(\"10:40\", \"PM\", \"tueSday\")\n",
    "d = Time(\"00:20\")\n",
    "\n",
    "s.after(d)"
   ]
  }
 ],
 "metadata": {
  "interpreter": {
   "hash": "916dbcbb3f70747c44a77c7bcd40155683ae19c65e1c03b4aa3499c5328201f1"
  },
  "kernelspec": {
   "display_name": "Python 3.9.7 64-bit",
   "language": "python",
   "name": "python3"
  },
  "language_info": {
   "codemirror_mode": {
    "name": "ipython",
    "version": 3
   },
   "file_extension": ".py",
   "mimetype": "text/x-python",
   "name": "python",
   "nbconvert_exporter": "python",
   "pygments_lexer": "ipython3",
   "version": "3.9.7"
  },
  "orig_nbformat": 4
 },
 "nbformat": 4,
 "nbformat_minor": 2
}
